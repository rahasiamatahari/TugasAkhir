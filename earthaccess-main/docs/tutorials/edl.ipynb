{
 "cells": [
  {
   "cell_type": "code",
   "execution_count": null,
   "id": "ce723d6f-8b5f-43e1-9531-19ee08a056fe",
   "metadata": {},
   "outputs": [],
   "source": [
    "import earthaccess\n",
    "\n",
    "auth = earthaccess.login()"
   ]
  },
  {
   "cell_type": "code",
   "execution_count": null,
   "id": "3108ff21-1ea2-449b-b2f5-b442dd3b61f5",
   "metadata": {},
   "outputs": [],
   "source": [
    "results = earthaccess.search_data(\n",
    "    short_name=\"ATL06\",\n",
    "    cloud_hosted=False,\n",
    "    temporal=(\"2019-01\", \"2019-02\"),\n",
    "    polygon=[(-100, 40), (-110, 40), (-105, 38), (-100, 40)]\n",
    ")\n",
    "results[0]"
   ]
  },
  {
   "cell_type": "code",
   "execution_count": null,
   "id": "a7bb1a93-6f85-40cd-93b4-ce821a03a8b5",
   "metadata": {},
   "outputs": [],
   "source": [
    "nsidc_url = \"https://n5eil01u.ecs.nsidc.org/DP7/ATLAS/ATL06.005/2019.02.21/ATL06_20190221121851_08410203_005_01.h5\"\n",
    "lpcloud_url = \"https://data.lpdaac.earthdatacloud.nasa.gov/lp-prod-protected/EMITL2ARFL.001/EMIT_L2A_RFL_001_20220903T163129_2224611_012/EMIT_L2A_RFL_001_20220903T163129_2224611_012.nc\"\n",
    "\n",
    "session = earthaccess.get_requests_https_session()"
   ]
  },
  {
   "cell_type": "code",
   "execution_count": null,
   "id": "c0f4e286-8ce9-4cde-b3a2-631b361a0d51",
   "metadata": {},
   "outputs": [],
   "source": [
    "r = session.get(lpcloud_url)\n",
    "r"
   ]
  },
  {
   "cell_type": "code",
   "execution_count": null,
   "id": "1e5f5f7a-0643-42cb-b70c-4ac982824ff9",
   "metadata": {},
   "outputs": [],
   "source": [
    "fs = earthaccess.get_fsspec_https_session()"
   ]
  },
  {
   "cell_type": "code",
   "execution_count": null,
   "id": "fbc7bc5f-b984-4324-b095-3648a437fba2",
   "metadata": {},
   "outputs": [],
   "source": [
    "with fs.open(lpcloud_url) as f:\n",
    "    data = f.read(10)\n",
    "data"
   ]
  },
  {
   "cell_type": "code",
   "execution_count": null,
   "id": "07433a9f-f276-4d2b-9ed3-f556df2884af",
   "metadata": {},
   "outputs": [],
   "source": [
    "%%time \n",
    "\n",
    "import xarray as xr\n",
    "\n",
    "ds = xr.open_mfdataset(earthaccess.open([lpcloud_url]))\n",
    "ds"
   ]
  }
 ],
 "metadata": {
  "kernelspec": {
   "display_name": "Python 3 (ipykernel)",
   "language": "python",
   "name": "python3"
  },
  "language_info": {
   "codemirror_mode": {
    "name": "ipython",
    "version": 3
   },
   "file_extension": ".py",
   "mimetype": "text/x-python",
   "name": "python",
   "nbconvert_exporter": "python",
   "pygments_lexer": "ipython3",
   "version": "3.9.14"
  }
 },
 "nbformat": 4,
 "nbformat_minor": 5
}
