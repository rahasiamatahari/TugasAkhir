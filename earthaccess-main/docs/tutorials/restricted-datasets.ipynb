{
 "cells": [
  {
   "cell_type": "markdown",
   "id": "56ba2387-54e8-4aa5-aedb-c7d90644536f",
   "metadata": {
    "tags": []
   },
   "source": [
    "# Accessing Datasets under an Access Control List (ACL)\n",
    "\n",
    "## <img src=\"https://logos-world.net/wp-content/uploads/2020/05/NASA-Logo-1959-present.png\" width=\"100px\" align=\"middle\" /> NASA Earthdata API Client 🌍\n",
    "\n",
    "\n",
    "> Note: Before we can use `earthaccess` we need an account with **[NASA EDL](https://urs.earthaccess.nasa.gov/)**\n"
   ]
  },
  {
   "cell_type": "code",
   "execution_count": 2,
   "id": "2acb1926-3442-446a-8a35-fcbba8868d4d",
   "metadata": {},
   "outputs": [],
   "source": [
    "from earthaccess import Auth, DataCollections, DataGranules, Store\n",
    "\n",
    "auth = Auth()"
   ]
  },
  {
   "cell_type": "markdown",
   "id": "95121ff7-5222-4778-a4de-25625e23884b",
   "metadata": {},
   "source": [
    "#### Auth()\n",
    "\n",
    "`earthaccess`'s **Auth** class provides 3 different strategies to authenticate ourselves with NASA EDL.\n",
    "\n",
    "* **netrc**: Do we have a `.netrc` file with our EDL credentials? if so, we can use it with `earthaccess`.\n",
    "If we don't have it and want to create one we can, earthaccess allows users to type their credentials and persist them into a `.netrc` file.\n",
    "* **environment**: If we have our EDL credentials as environment variables \n",
    "  * EARTHDATA_USERNAME\n",
    "  * EARTHDATA_PASSWORD\n",
    "* **interactive**: We will be asked for our EDL credentials with optinal persistance to `.netrc`\n",
    "\n",
    "To persist our credentials to a `.netrc` file we have to do the following:\n",
    "\n",
    "```python\n",
    "auth.login(strategy=\"interactive\", persist=True)\n",
    "```\n",
    "\n",
    "In this notebook we'll use the environment method followed by the `netrc` strategy. You can of course use the interactive strategy if you don't have a `.netrc` file.\n"
   ]
  },
  {
   "cell_type": "code",
   "execution_count": 3,
   "id": "a0a5f73d-b4b9-4dad-ac72-12c7ae6278d1",
   "metadata": {},
   "outputs": [
    {
     "name": "stdout",
     "output_type": "stream",
     "text": [
      "You're now authenticated with NASA Earthdata Login\n",
      "Using token with expiration date: 07/24/2022\n"
     ]
    }
   ],
   "source": [
    "auth.login(strategy=\"environment\")\n",
    "# are we authenticated?\n",
    "if not auth.authenticated:\n",
    "    auth.login(strategy=\"netrc\")"
   ]
  },
  {
   "cell_type": "markdown",
   "id": "5609eb13-397b-4da8-a007-3c2befc1769e",
   "metadata": {},
   "source": [
    "## Querying for restricted datasets\n",
    "\n",
    "The DataCollection client can query CMR for any collection (dataset) using all of CMR's Query parameters and has built-in functions to extract useful information from the response.\n",
    "\n",
    "```python\n",
    "auth.refresh_tokens()\n",
    "```\n",
    "\n",
    "\n",
    "If we belong to an early adopter group within NASA we can pass the Auth object to the other classes when we instantiate them.\n",
    "\n",
    "```python\n",
    "# An anonymous query to CMR\n",
    "Query = DataCollections().keyword('elevation')\n",
    "# An authenticated query to CMR\n",
    "Query = DataCollections(auth).keyword('elevation')\n",
    "```\n",
    "\n",
    "and it's the same with DataGranules\n",
    "\n",
    "\n",
    "```python\n",
    "# An anonymous query to CMR\n",
    "Query = DataGranules().keyword('elevation')\n",
    "# An authenticated query to CMR\n",
    "Query = DataGranules(auth).keyword('elevation')\n",
    "```\n",
    "\n",
    "\n",
    "> **Note**: Some collections under an access control list are flagged by CMR and won't count when asking about results with `hits()`. \n"
   ]
  },
  {
   "cell_type": "code",
   "execution_count": 5,
   "id": "d0dd51cc-b394-47cd-b606-d54750ea629e",
   "metadata": {},
   "outputs": [
    {
     "name": "stdout",
     "output_type": "stream",
     "text": [
      "Collections found: 1\n"
     ]
    },
    {
     "data": {
      "text/plain": [
       "[{\n",
       "   \"meta\": {\n",
       "     \"concept-id\": \"C2144439155-NSIDC_ECS\",\n",
       "     \"granule-count\": 123484,\n",
       "     \"provider-id\": \"NSIDC_ECS\"\n",
       "   },\n",
       "   \"umm\": {\n",
       "     \"ShortName\": \"ATL06\",\n",
       "     \"Version\": \"005\"\n",
       "   }\n",
       " }]"
      ]
     },
     "execution_count": 5,
     "metadata": {},
     "output_type": "execute_result"
    }
   ],
   "source": [
    "# The first step is to create a DataCollections query \n",
    "Query = DataCollections()\n",
    "\n",
    "# Use chain methods to customize our query\n",
    "Query.short_name(\"ATL06\").version(\"005\")\n",
    "\n",
    "print(f'Collections found: {Query.hits()}')\n",
    "\n",
    "# filtering what UMM fields to print, to see the full record we omit the fields filters\n",
    "# meta is always included as \n",
    "collections = Query.fields(['ShortName','Version']).get(5)\n",
    "# Inspect some results printing just the ShortName and Abstract\n",
    "collections"
   ]
  },
  {
   "cell_type": "code",
   "execution_count": 6,
   "id": "14eee26c-e9d9-4f2f-8b04-06379c29c9d8",
   "metadata": {},
   "outputs": [
    {
     "name": "stdout",
     "output_type": "stream",
     "text": [
      "earthaccess generated a token for CMR with expiration on: 07/24/2022\n"
     ]
    }
   ],
   "source": [
    "if not auth.refresh_tokens():\n",
    "    print(\"Something went wrong, we may need to regenerate our tokens manually\")"
   ]
  },
  {
   "cell_type": "code",
   "execution_count": 7,
   "id": "a17a8afe-0a68-4adf-a6d1-5f5bda6becc9",
   "metadata": {},
   "outputs": [
    {
     "name": "stdout",
     "output_type": "stream",
     "text": [
      "Collections found: 1\n"
     ]
    },
    {
     "data": {
      "text/plain": [
       "[{\n",
       "   \"meta\": {\n",
       "     \"concept-id\": \"C2144439155-NSIDC_ECS\",\n",
       "     \"granule-count\": 123484,\n",
       "     \"provider-id\": \"NSIDC_ECS\"\n",
       "   },\n",
       "   \"umm\": {\n",
       "     \"ShortName\": \"ATL06\",\n",
       "     \"Version\": \"005\"\n",
       "   }\n",
       " },\n",
       " {\n",
       "   \"meta\": {\n",
       "     \"concept-id\": \"C2153572614-NSIDC_CPRD\",\n",
       "     \"granule-count\": 123484,\n",
       "     \"provider-id\": \"NSIDC_CPRD\"\n",
       "   },\n",
       "   \"umm\": {\n",
       "     \"ShortName\": \"ATL06\",\n",
       "     \"Version\": \"005\"\n",
       "   }\n",
       " }]"
      ]
     },
     "execution_count": 7,
     "metadata": {},
     "output_type": "execute_result"
    }
   ],
   "source": [
    "Query = DataCollections(auth)\n",
    "\n",
    "# Use chain methods to customize our query\n",
    "Query.short_name(\"ATL06\").version(\"005\")\n",
    "\n",
    "# This will say 1, even though we get 2 back.\n",
    "print(f'Collections found: {Query.hits()}')\n",
    "\n",
    "collections = Query.fields(['ShortName','Version']).get()\n",
    "# Inspect some results printing just the ShortName and Abstract\n",
    "collections"
   ]
  },
  {
   "cell_type": "markdown",
   "id": "fd9fb5ce-bb8a-4d05-a3ae-49e79f4d455e",
   "metadata": {},
   "source": [
    "\n",
    "**Oh no! What!? only 1 collection found even though we got 2 results back?!**\n",
    "\n",
    "#### Interpreting the results\n",
    "\n",
    "The `hits()` method above will tell you the number of query hits, but only for publicly available data sets.\n",
    "In this case because cloud hosted ICESat-2 data are not yet publicly available, CMR will return “1” hits, if you filtered DataCollections by provider = NSIDC_CPRD you'll get `0` hits. For now we need an alternative method of seeing how many cloud data sets are available at NSIDC. This is only temporary until cloud-hosted ICESat-2 become publicly available. We can create a collections object (we’re going to want one of these soon anyhow) and print the len() of the collections object to see the true number of hits. \n",
    "\n",
    "> **Note**: Since we cannot rely on `hits()` we need to be aware that `get()` may get us too many metadata records depending on the dataset and how broad our query is.\n"
   ]
  },
  {
   "cell_type": "code",
   "execution_count": 8,
   "id": "9478b3ef-7652-4943-9946-9ce49c085eb6",
   "metadata": {},
   "outputs": [
    {
     "name": "stdout",
     "output_type": "stream",
     "text": [
      "Granules found with hits(): 0\n",
      "Actual number found: 4\n"
     ]
    }
   ],
   "source": [
    "Query = DataGranules(auth).concept_id(\"C2153572614-NSIDC_CPRD\").bounding_box(-134.7,58.9,-133.9,59.2).temporal(\"2020-03-01\", \"2020-03-30\")\n",
    "\n",
    "# Unfortunately the hits() methods will behave the same for granule queries\n",
    "print(f\"Granules found with hits(): {Query.hits()}\")\n",
    "\n",
    "cloud_granules = Query.get()\n",
    "\n",
    "print(f\"Actual number found: {len(cloud_granules)}\")"
   ]
  },
  {
   "cell_type": "code",
   "execution_count": null,
   "id": "112602f7-fc0d-4f22-8e7c-45eafbce56e6",
   "metadata": {},
   "outputs": [],
   "source": [
    "store = Store(auth)\n",
    "files = store.get(cloud_granules, \"./data/C2153572614-NSIDC_CPRD/\")"
   ]
  }
 ],
 "metadata": {
  "kernelspec": {
   "display_name": "Python 3 (ipykernel)",
   "language": "python",
   "name": "python3"
  },
  "language_info": {
   "codemirror_mode": {
    "name": "ipython",
    "version": 3
   },
   "file_extension": ".py",
   "mimetype": "text/x-python",
   "name": "python",
   "nbconvert_exporter": "python",
   "pygments_lexer": "ipython3",
   "version": "3.9.13"
  }
 },
 "nbformat": 4,
 "nbformat_minor": 5
}
